{
 "cells": [
  {
   "cell_type": "code",
   "execution_count": 31,
   "metadata": {},
   "outputs": [],
   "source": [
    "from selenium import webdriver\n",
    "driver = webdriver.Chrome()\n",
    "driver.get('https://deals.souq.com/eg-en/tvs/cc/780')"
   ]
  },
  {
   "cell_type": "code",
   "execution_count": 32,
   "metadata": {},
   "outputs": [],
   "source": [
    "# to scroll to a page with infinite loading\n",
    "import time\n",
    "SCROLL_PAUSE_TIME = 2\n",
    "\n",
    "# Get scroll height\n",
    "last_height = driver.execute_script(\"return document.body.scrollHeight\")\n",
    "\n",
    "while True:\n",
    "    # Scroll down to bottom\n",
    "    driver.execute_script(\"window.scrollTo(0, document.body.scrollHeight);\")\n",
    "\n",
    "    # Wait to load page\n",
    "    time.sleep(SCROLL_PAUSE_TIME)\n",
    "\n",
    "    # Calculate new scroll height and compare with last scroll height\n",
    "    new_height = driver.execute_script(\"return document.body.scrollHeight\")\n",
    "    if new_height == last_height:\n",
    "        break\n",
    "    last_height = new_height"
   ]
  },
  {
   "cell_type": "code",
   "execution_count": 33,
   "metadata": {},
   "outputs": [],
   "source": [
    "#import pandas to collect the data in Dataframe(table)\n",
    "import pandas as pd"
   ]
  },
  {
   "cell_type": "code",
   "execution_count": 34,
   "metadata": {},
   "outputs": [],
   "source": [
    "#create empty list for each varible i will collect \n",
    "price_l=[]\n",
    "title_l=[]\n",
    "link_l=[]\n",
    "\n",
    "prices=driver.find_elements_by_xpath('//span[@class=\"is block sk-clr1\"]')\n",
    "for i in prices:\n",
    "    price=i.text\n",
    "    price_l.append(price)\n",
    "    \n",
    "\n",
    "titles=driver.find_elements_by_xpath('//span[@class=\"itemTitle\"]')\n",
    "for t in titles:\n",
    "    title=t.text\n",
    "    title_l.append(title)\n",
    "\n",
    "urls=driver.find_elements_by_xpath('//div[@class=\"row\"]')\n",
    "for i in urls:\n",
    "    u=driver.find_elements_by_xpath('//a[@class=\"img-link imgShowQuickView\"]')\n",
    "    for url in u :\n",
    "        link=url.get_attribute(\"href\")  \n",
    "        link_l.append(link)\n",
    "        \n",
    "\n",
    "df=pd.DataFrame(columns=['title','price','link'])\n",
    "#convert the list to a pandas Series, then missing index in the Series will be filled with NaN\n",
    "df['title'] = pd.Series(title_l)\n",
    "df['price'] = pd.Series(price_l)\n",
    "df['link'] = pd.Series(link_l)\n"
   ]
  },
  {
   "cell_type": "code",
   "execution_count": 35,
   "metadata": {},
   "outputs": [
    {
     "name": "stdout",
     "output_type": "stream",
     "text": [
      "                                               title         price  \\\n",
      "0  Samsung 58 Inch 4K Ultra HD Smart LED TV with ...  7,999.00 EGP   \n",
      "1  Contex CON43P28S01 43 Inch Smart Full HD DLED ...  3,399.00 EGP   \n",
      "2  Samsung 50 Inch 4K Ultra HD Smart LED TV with ...  6,349.00 EGP   \n",
      "3    ATA 32 Inch HD LED Standard TV Black - 32DN4 LE  1,544.00 EGP   \n",
      "4       Jac 32N 32 Inch HD LED TV, IPS Panel - Black  1,666.00 EGP   \n",
      "\n",
      "                                                link  \n",
      "0  https://egypt.souq.com/eg-en/samsung-58-inch-4...  \n",
      "1  https://egypt.souq.com/eg-en/contex-con43p28s0...  \n",
      "2  https://egypt.souq.com/eg-en/samsung-50-inch-4...  \n",
      "3  https://egypt.souq.com/eg-en/ata-32-inch-hd-le...  \n",
      "4  https://egypt.souq.com/eg-en/jac-32n-32-inch-h...  \n"
     ]
    }
   ],
   "source": [
    "#Check\n",
    "print(df.head())"
   ]
  },
  {
   "cell_type": "code",
   "execution_count": 36,
   "metadata": {},
   "outputs": [],
   "source": [
    "#Save it in CSV file\n",
    "df.to_csv('souq-TVs.csv',encoding='utf-8')"
   ]
  },
  {
   "cell_type": "code",
   "execution_count": null,
   "metadata": {},
   "outputs": [],
   "source": []
  }
 ],
 "metadata": {
  "kernelspec": {
   "display_name": "Python 3",
   "language": "python",
   "name": "python3"
  },
  "language_info": {
   "codemirror_mode": {
    "name": "ipython",
    "version": 3
   },
   "file_extension": ".py",
   "mimetype": "text/x-python",
   "name": "python",
   "nbconvert_exporter": "python",
   "pygments_lexer": "ipython3",
   "version": "3.7.6"
  }
 },
 "nbformat": 4,
 "nbformat_minor": 4
}
